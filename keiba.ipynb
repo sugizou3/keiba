{
 "cells": [
  {
   "cell_type": "code",
   "execution_count": 1,
   "metadata": {},
   "outputs": [],
   "source": [
    "import pandas as pd\n",
    "import numpy as np\n",
    "import torch\n",
    "import matplotlib.pyplot as plt\n",
    "import torch.optim as optim\n",
    "import torch.nn.functional as F\n",
    "import random\n",
    "import tqdm\n",
    "from torch import nn\n",
    "pd.set_option('display.max_rows', 200)\n",
    "pd.set_option('display.max_columns', 200)\n",
    "np.set_printoptions(threshold=200)\n",
    "torch.set_printoptions(edgeitems=200)"
   ]
  },
  {
   "cell_type": "code",
   "execution_count": 2,
   "metadata": {},
   "outputs": [
    {
     "name": "stderr",
     "output_type": "stream",
     "text": [
      "c:\\Users\\cmj13099\\AppData\\Local\\anaconda3\\envs\\keiba\\Lib\\site-packages\\sklearn\\base.py:376: InconsistentVersionWarning: Trying to unpickle estimator LabelEncoder from version 1.5.1 when using version 1.4.1.post1. This might lead to breaking code or invalid results. Use at your own risk. For more info please refer to:\n",
      "https://scikit-learn.org/stable/model_persistence.html#security-maintainability-limitations\n",
      "  warnings.warn(\n",
      "c:\\Users\\cmj13099\\AppData\\Local\\anaconda3\\envs\\keiba\\Lib\\site-packages\\sklearn\\base.py:376: InconsistentVersionWarning: Trying to unpickle estimator LabelEncoder from version 1.5.1 when using version 1.4.1.post1. This might lead to breaking code or invalid results. Use at your own risk. For more info please refer to:\n",
      "https://scikit-learn.org/stable/model_persistence.html#security-maintainability-limitations\n",
      "  warnings.warn(\n"
     ]
    }
   ],
   "source": [
    "import pickle\n",
    "with open(\"pickle/pickle_r_all\", \"rb\") as f:\n",
    "    r = pickle.load(f)\n",
    "with open(\"pickle/pickle_p_all\", \"rb\") as f:\n",
    "    p = pickle.load(f)\n",
    "# with open(\"pickle/pickle_st_all\", \"rb\") as f:\n",
    "#     st = pickle.load(f)"
   ]
  },
  {
   "cell_type": "code",
   "execution_count": 3,
   "metadata": {},
   "outputs": [],
   "source": [
    "# data = r.data_c[r.data_c['date']>'2024-07-01']\n",
    "data = r.data_c"
   ]
  },
  {
   "cell_type": "code",
   "execution_count": 4,
   "metadata": {},
   "outputs": [],
   "source": [
    "from Class.LearningDataProcessor import RacingDataProcessor\n",
    "from Class.Model import HorseRaceModel\n",
    "from Class.LearningModule import LearningModule\n",
    "from ListWise_func import listnet_loss"
   ]
  },
  {
   "cell_type": "code",
   "execution_count": 5,
   "metadata": {},
   "outputs": [],
   "source": [
    "def set_criterion(task_type):\n",
    "    if task_type == 'regression':\n",
    "        criterion = nn.MSELoss()\n",
    "    elif task_type == 'binary':\n",
    "        criterion = nn.CrossEntropyLoss()\n",
    "    elif task_type == 'list_net':\n",
    "        criterion = listnet_loss\n",
    "    else:\n",
    "        raise ValueError(f\"Unsupported task type: {task_type}\")\n",
    "    \n",
    "    return criterion\n",
    "\n",
    "def log_func(df,task_type):\n",
    "    if task_type == 'regression':\n",
    "        df['rank'] = df.groupby('index')['pred'].rank(ascending=False)\n",
    "    else:\n",
    "        df['rank'] = df.groupby('index')['pred'].rank(ascending=True)\n",
    "    df_rank1 = df[df['rank'] == 1]\n",
    "    correct_data = df_rank1[df_rank1['着順'] == 1]\n",
    "    accuracy = len(correct_data) / len(df_rank1) * 100 if len(df_rank1) > 0 else 0\n",
    "    return_money = correct_data['単勝'].sum()/len(df_rank1)* 100 if len(df_rank1) > 0 else 0\n",
    "    print(f'Accuracy: {accuracy:.1f}% | Return_money: {return_money:.1f}%')\n",
    "    return accuracy,return_money\n",
    "\n"
   ]
  },
  {
   "cell_type": "code",
   "execution_count": 6,
   "metadata": {},
   "outputs": [
    {
     "name": "stdout",
     "output_type": "stream",
     "text": [
      "Device: cpu\n",
      "E_in: 34 dh_in: 8\n"
     ]
    }
   ],
   "source": [
    "device = torch.device('cuda' if torch.cuda.is_available() else 'cpu')\n",
    "# デバイスの確認\n",
    "print(\"Device: {}\".format(device))\n",
    "\n",
    "task_type = 'list_net'\n",
    "h_size = 64\n",
    "rdp = RacingDataProcessor(data,h_size,num_selections=14,task_type=task_type)\n",
    "\n",
    "E_in = len(rdp.environment_columns)\n",
    "E_out = 32\n",
    "dh_in = len(rdp.horse_columns)\n",
    "dh_out = 32\n",
    "print(\"E_in: {} dh_in: {}\".format(E_in,dh_in))\n",
    "\n",
    "net = HorseRaceModel(task_type, device,rdp, h_size,E_in,E_out, dh_in,dh_out).to(device)\n",
    "# 損失関数の定義\n",
    "criterion = set_criterion(task_type)\n",
    "optimizer = optim.Adam(net.parameters(), lr=0.001)\n",
    "\n",
    "train_split = 0.7\n",
    "lem = LearningModule(rdp,net,data,task_type,train_split,device,optimizer, criterion,log_func)\n"
   ]
  },
  {
   "cell_type": "code",
   "execution_count": 7,
   "metadata": {},
   "outputs": [
    {
     "name": "stdout",
     "output_type": "stream",
     "text": [
      "---------------------------------------------\n",
      "Epoch: 1/120\n"
     ]
    },
    {
     "name": "stderr",
     "output_type": "stream",
     "text": [
      "  0%|          | 1/562 [00:00<07:15,  1.29it/s]"
     ]
    },
    {
     "name": "stdout",
     "output_type": "stream",
     "text": [
      "Loss: 0.1247\n",
      "Accuracy: 8.3% | Return_money: 82.1%\n"
     ]
    },
    {
     "name": "stderr",
     "output_type": "stream",
     "text": [
      " 18%|█▊        | 101/562 [01:17<06:33,  1.17it/s]"
     ]
    },
    {
     "name": "stdout",
     "output_type": "stream",
     "text": [
      "Loss: 0.1044\n",
      "Accuracy: 0.0% | Return_money: 0.0%\n"
     ]
    },
    {
     "name": "stderr",
     "output_type": "stream",
     "text": [
      " 36%|███▌      | 201/562 [02:39<05:22,  1.12it/s]"
     ]
    },
    {
     "name": "stdout",
     "output_type": "stream",
     "text": [
      "Loss: 0.1009\n",
      "Accuracy: 5.6% | Return_money: 27.8%\n"
     ]
    },
    {
     "name": "stderr",
     "output_type": "stream",
     "text": [
      " 54%|█████▎    | 301/562 [04:08<05:33,  1.28s/it]"
     ]
    },
    {
     "name": "stdout",
     "output_type": "stream",
     "text": [
      "Loss: 0.1026\n",
      "Accuracy: 0.0% | Return_money: 0.0%\n"
     ]
    },
    {
     "name": "stderr",
     "output_type": "stream",
     "text": [
      " 71%|███████▏  | 401/562 [06:44<05:23,  2.01s/it]"
     ]
    },
    {
     "name": "stdout",
     "output_type": "stream",
     "text": [
      "Loss: 0.1002\n",
      "Accuracy: 5.6% | Return_money: 23.9%\n"
     ]
    },
    {
     "name": "stderr",
     "output_type": "stream",
     "text": [
      " 89%|████████▉ | 501/562 [08:54<00:51,  1.18it/s]"
     ]
    },
    {
     "name": "stdout",
     "output_type": "stream",
     "text": [
      "Loss: 0.1002\n",
      "Accuracy: 4.2% | Return_money: 46.7%\n"
     ]
    },
    {
     "name": "stderr",
     "output_type": "stream",
     "text": [
      "100%|██████████| 562/562 [09:47<00:00,  1.05s/it]\n",
      "  0%|          | 1/241 [00:00<03:08,  1.27it/s]"
     ]
    },
    {
     "name": "stdout",
     "output_type": "stream",
     "text": [
      "Loss: 0.0813\n",
      "Accuracy: 13.9% | Return_money: 67.5%\n"
     ]
    },
    {
     "name": "stderr",
     "output_type": "stream",
     "text": [
      " 21%|██        | 51/241 [00:35<02:21,  1.35it/s]"
     ]
    },
    {
     "name": "stdout",
     "output_type": "stream",
     "text": [
      "Loss: 0.0971\n",
      "Accuracy: 13.9% | Return_money: 83.3%\n"
     ]
    },
    {
     "name": "stderr",
     "output_type": "stream",
     "text": [
      " 42%|████▏     | 101/241 [01:08<01:38,  1.42it/s]"
     ]
    },
    {
     "name": "stdout",
     "output_type": "stream",
     "text": [
      "Loss: 0.1033\n",
      "Accuracy: 11.1% | Return_money: 38.3%\n"
     ]
    },
    {
     "name": "stderr",
     "output_type": "stream",
     "text": [
      " 63%|██████▎   | 151/241 [01:45<00:50,  1.77it/s]"
     ]
    },
    {
     "name": "stdout",
     "output_type": "stream",
     "text": [
      "Loss: 0.1008\n",
      "Accuracy: 5.6% | Return_money: 13.9%\n"
     ]
    },
    {
     "name": "stderr",
     "output_type": "stream",
     "text": [
      " 83%|████████▎ | 201/241 [02:18<00:26,  1.51it/s]"
     ]
    },
    {
     "name": "stdout",
     "output_type": "stream",
     "text": [
      "Loss: 0.0966\n",
      "Accuracy: 30.6% | Return_money: 156.4%\n"
     ]
    },
    {
     "name": "stderr",
     "output_type": "stream",
     "text": [
      "100%|██████████| 241/241 [02:56<00:00,  1.36it/s]\n"
     ]
    },
    {
     "ename": "TypeError",
     "evalue": "log_func() missing 1 required positional argument: 'task_type'",
     "output_type": "error",
     "traceback": [
      "\u001b[1;31m---------------------------------------------------------------------------\u001b[0m",
      "\u001b[1;31mTypeError\u001b[0m                                 Traceback (most recent call last)",
      "Cell \u001b[1;32mIn[7], line 9\u001b[0m\n\u001b[0;32m      6\u001b[0m \u001b[38;5;28mprint\u001b[39m(\u001b[38;5;124m\"\u001b[39m\u001b[38;5;124mEpoch: \u001b[39m\u001b[38;5;132;01m{}\u001b[39;00m\u001b[38;5;124m/\u001b[39m\u001b[38;5;132;01m{}\u001b[39;00m\u001b[38;5;124m\"\u001b[39m\u001b[38;5;241m.\u001b[39mformat(i\u001b[38;5;241m+\u001b[39m\u001b[38;5;241m1\u001b[39m, epoch))\n\u001b[0;32m      8\u001b[0m train_loss \u001b[38;5;241m=\u001b[39m lem\u001b[38;5;241m.\u001b[39mtrain(log_interval \u001b[38;5;241m=\u001b[39m \u001b[38;5;241m100\u001b[39m)\n\u001b[1;32m----> 9\u001b[0m test_loss,_ \u001b[38;5;241m=\u001b[39m \u001b[43mlem\u001b[49m\u001b[38;5;241;43m.\u001b[39;49m\u001b[43mevaluate\u001b[49m\u001b[43m(\u001b[49m\u001b[43mlog_interval\u001b[49m\u001b[43m \u001b[49m\u001b[38;5;241;43m=\u001b[39;49m\u001b[43m \u001b[49m\u001b[38;5;241;43m50\u001b[39;49m\u001b[43m)\u001b[49m\n\u001b[0;32m     11\u001b[0m \u001b[38;5;28mprint\u001b[39m(\u001b[38;5;124m\"\u001b[39m\u001b[38;5;124mTrain_Loss: \u001b[39m\u001b[38;5;132;01m{:.4f}\u001b[39;00m\u001b[38;5;124m\"\u001b[39m\u001b[38;5;241m.\u001b[39mformat(train_loss))\n\u001b[0;32m     12\u001b[0m \u001b[38;5;28mprint\u001b[39m(\u001b[38;5;124m\"\u001b[39m\u001b[38;5;124mTest_Loss: \u001b[39m\u001b[38;5;132;01m{:.4f}\u001b[39;00m\u001b[38;5;124m \u001b[39m\u001b[38;5;124m\"\u001b[39m\u001b[38;5;241m.\u001b[39mformat(test_loss))\n",
      "File \u001b[1;32mc:\\Users\\cmj13099\\OneDrive\\keiba\\Class\\LearningModule.py:126\u001b[0m, in \u001b[0;36mLearningModule.evaluate\u001b[1;34m(self, log_interval)\u001b[0m\n\u001b[0;32m    122\u001b[0m             \u001b[38;5;28mprint\u001b[39m(\u001b[38;5;124mf\u001b[39m\u001b[38;5;124m'\u001b[39m\u001b[38;5;124mLoss: \u001b[39m\u001b[38;5;132;01m{\u001b[39;00mmean_loss\u001b[38;5;132;01m:\u001b[39;00m\u001b[38;5;124m.4f\u001b[39m\u001b[38;5;132;01m}\u001b[39;00m\u001b[38;5;124m'\u001b[39m)\n\u001b[0;32m    123\u001b[0m             \u001b[38;5;28mself\u001b[39m\u001b[38;5;241m.\u001b[39mlog_func(df,\u001b[38;5;28mself\u001b[39m\u001b[38;5;241m.\u001b[39mtask_type)\n\u001b[1;32m--> 126\u001b[0m \u001b[38;5;28;43mself\u001b[39;49m\u001b[38;5;241;43m.\u001b[39;49m\u001b[43mlog_func\u001b[49m\u001b[43m(\u001b[49m\u001b[43mdf_list\u001b[49m\u001b[43m)\u001b[49m\n\u001b[0;32m    128\u001b[0m \u001b[38;5;28mself\u001b[39m\u001b[38;5;241m.\u001b[39meval_losses\u001b[38;5;241m.\u001b[39mappend(mean_loss)\n\u001b[0;32m    129\u001b[0m \u001b[38;5;28;01mreturn\u001b[39;00m mean_loss,df_list\n",
      "\u001b[1;31mTypeError\u001b[0m: log_func() missing 1 required positional argument: 'task_type'"
     ]
    }
   ],
   "source": [
    "epoch = 120\n",
    "\n",
    "for i in range(epoch):\n",
    "    # エポックの進行状況を表示\n",
    "    print('---------------------------------------------')\n",
    "    print(\"Epoch: {}/{}\".format(i+1, epoch))\n",
    "\n",
    "    train_loss = lem.train(log_interval = 100)\n",
    "    test_loss,_ = lem.evaluate(log_interval = 50)\n",
    "\n",
    "    print(\"Train_Loss: {:.4f}\".format(train_loss))\n",
    "    print(\"Test_Loss: {:.4f} \".format(test_loss))\n",
    "    \n",
    "    if i%4 == 0:\n",
    "        torch.save(lem.model, 'model2/model_{}.pth'.format(i))\n",
    "        torch.save(lem.data_processor.horse_features, 'model2/horse_features _list_{}.pt'.format(i))\n",
    "        torch.save(lem.data_processor.jockey_features, 'model2/jockey_features_list_{}.pt'.format(i))\n",
    "\n"
   ]
  },
  {
   "cell_type": "code",
   "execution_count": null,
   "metadata": {},
   "outputs": [],
   "source": [
    "plt.plot(lem.train_losses)\n",
    "plt.plot(lem.eval_losses)"
   ]
  },
  {
   "cell_type": "code",
   "execution_count": null,
   "metadata": {},
   "outputs": [],
   "source": [
    "model_load = torch.load('model2/model_8.pth')"
   ]
  },
  {
   "cell_type": "code",
   "execution_count": null,
   "metadata": {},
   "outputs": [],
   "source": []
  },
  {
   "cell_type": "code",
   "execution_count": null,
   "metadata": {},
   "outputs": [],
   "source": []
  },
  {
   "cell_type": "code",
   "execution_count": null,
   "metadata": {},
   "outputs": [],
   "source": []
  },
  {
   "cell_type": "code",
   "execution_count": null,
   "metadata": {},
   "outputs": [],
   "source": []
  },
  {
   "cell_type": "code",
   "execution_count": null,
   "metadata": {},
   "outputs": [],
   "source": []
  },
  {
   "cell_type": "code",
   "execution_count": null,
   "metadata": {},
   "outputs": [],
   "source": []
  },
  {
   "cell_type": "code",
   "execution_count": null,
   "metadata": {},
   "outputs": [],
   "source": []
  },
  {
   "cell_type": "code",
   "execution_count": null,
   "metadata": {},
   "outputs": [],
   "source": []
  },
  {
   "cell_type": "code",
   "execution_count": null,
   "metadata": {},
   "outputs": [],
   "source": []
  },
  {
   "cell_type": "code",
   "execution_count": null,
   "metadata": {},
   "outputs": [],
   "source": []
  },
  {
   "cell_type": "code",
   "execution_count": null,
   "metadata": {},
   "outputs": [],
   "source": []
  },
  {
   "cell_type": "code",
   "execution_count": null,
   "metadata": {},
   "outputs": [],
   "source": []
  }
 ],
 "metadata": {
  "kernelspec": {
   "display_name": "keiba",
   "language": "python",
   "name": "python3"
  },
  "language_info": {
   "codemirror_mode": {
    "name": "ipython",
    "version": 3
   },
   "file_extension": ".py",
   "mimetype": "text/x-python",
   "name": "python",
   "nbconvert_exporter": "python",
   "pygments_lexer": "ipython3",
   "version": "3.11.8"
  }
 },
 "nbformat": 4,
 "nbformat_minor": 2
}
